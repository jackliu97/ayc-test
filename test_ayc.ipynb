{
  "nbformat": 4,
  "nbformat_minor": 0,
  "metadata": {
    "colab": {
      "provenance": [],
      "authorship_tag": "ABX9TyPS4vLgAv/Qxfp5iMWkHOYb",
      "include_colab_link": true
    },
    "kernelspec": {
      "name": "python3",
      "display_name": "Python 3"
    },
    "language_info": {
      "name": "python"
    }
  },
  "cells": [
    {
      "cell_type": "markdown",
      "metadata": {
        "id": "view-in-github",
        "colab_type": "text"
      },
      "source": [
        "<a href=\"https://colab.research.google.com/github/jackliu97/ayc-test/blob/main/test_ayc.ipynb\" target=\"_parent\"><img src=\"https://colab.research.google.com/assets/colab-badge.svg\" alt=\"Open In Colab\"/></a>"
      ]
    },
    {
      "cell_type": "code",
      "execution_count": null,
      "metadata": {
        "colab": {
          "base_uri": "https://localhost:8080/"
        },
        "id": "4alPJSUHHBE5",
        "outputId": "d160c911-a52a-4796-e960-1aad42341173"
      },
      "outputs": [
        {
          "output_type": "stream",
          "name": "stdout",
          "text": [
            "hello\n"
          ]
        }
      ],
      "source": [
        "print(\"hello\")"
      ]
    },
    {
      "cell_type": "markdown",
      "source": [
        "In the following practice, print the variable"
      ],
      "metadata": {
        "id": "dA-j2GQoHH5l"
      }
    },
    {
      "cell_type": "code",
      "source": [
        "v1 = 11\n",
        "print(f\"{v1} is the value\")"
      ],
      "metadata": {
        "colab": {
          "base_uri": "https://localhost:8080/"
        },
        "id": "5uDzJcYdHOXG",
        "outputId": "f7f014f4-9cc0-4be2-82e1-ae2933f7e408"
      },
      "execution_count": null,
      "outputs": [
        {
          "output_type": "stream",
          "name": "stdout",
          "text": [
            "11 is the value\n"
          ]
        }
      ]
    },
    {
      "cell_type": "markdown",
      "source": [
        "Create another variable called `v2` and set it to `12`\n",
        "\n",
        "print `I have two variables, 11 and 12`"
      ],
      "metadata": {
        "id": "RjezBcixHaJS"
      }
    },
    {
      "cell_type": "code",
      "source": [
        "v2 = 12\n",
        "print(f\"I have two variables {v1} and {v2}\")"
      ],
      "metadata": {
        "colab": {
          "base_uri": "https://localhost:8080/"
        },
        "id": "J4kv4mOOHT0Y",
        "outputId": "b17c0471-ed2b-4439-e3de-13ae5ae84ff1"
      },
      "execution_count": 8,
      "outputs": [
        {
          "output_type": "stream",
          "name": "stdout",
          "text": [
            "I have two variables 11 and 12\n"
          ]
        }
      ]
    }
  ]
}